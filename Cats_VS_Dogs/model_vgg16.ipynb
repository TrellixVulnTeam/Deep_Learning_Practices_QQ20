{
  "nbformat": 4,
  "nbformat_minor": 0,
  "metadata": {
    "colab": {
      "name": "model_vgg16.ipynb",
      "provenance": [],
      "authorship_tag": "ABX9TyMylU11tofNaLu3ca80/GcW",
      "include_colab_link": true
    },
    "kernelspec": {
      "name": "python3",
      "display_name": "Python 3"
    },
    "language_info": {
      "name": "python"
    }
  },
  "cells": [
    {
      "cell_type": "markdown",
      "metadata": {
        "id": "view-in-github",
        "colab_type": "text"
      },
      "source": [
        "<a href=\"https://colab.research.google.com/github/taravatp/cats_vs_dogs/blob/main/model_vgg16.ipynb\" target=\"_parent\"><img src=\"https://colab.research.google.com/assets/colab-badge.svg\" alt=\"Open In Colab\"/></a>"
      ]
    },
    {
      "cell_type": "code",
      "metadata": {
        "id": "IxDv_rC0KPRV"
      },
      "source": [
        "import torch\n",
        "import torch.nn as nn\n",
        "import torch.nn.functional as F"
      ],
      "execution_count": null,
      "outputs": []
    },
    {
      "cell_type": "code",
      "metadata": {
        "id": "xBFj-pWFSD5O"
      },
      "source": [
        "class conv_layer(nn.Module):\n",
        "  def __init__(self,in_channels,out_channels):\n",
        "    super(conv_layer,self).__init__()\n",
        "\n",
        "    self.conv_layer = nn.Sequential(\n",
        "        nn.Conv2d(in_channels,out_channels,kernel_size=(3,3),padding=(1,1),stride=(1,1)),\n",
        "        nn.ReLU()\n",
        "    )\n",
        "  \n",
        "  def forward(self,x):\n",
        "    x = self.conv_layer(x)\n",
        "    return x"
      ],
      "execution_count": null,
      "outputs": []
    },
    {
      "cell_type": "code",
      "metadata": {
        "id": "HsIql1O4KiD7"
      },
      "source": [
        "class VGG16(nn.Module):\n",
        "  def __init__(self,num_classes):\n",
        "    super(VGG16,self).__init__()\n",
        "\n",
        "    self.num_classes = num_classes\n",
        "\n",
        "    self.layer1 = conv_layer(3,64)\n",
        "    self.layer2 = conv_layer(64,64)\n",
        "    self.pool1 = nn.MaxPool2d(kernel_size=(2,2),stride=(2,2))\n",
        "    self.layer3 = conv_layer(64,128)\n",
        "    self.layer4 = conv_layer(128,128)\n",
        "    self.pool2 = nn.MaxPool2d(kernel_size=(2,2),stride=(2,2))\n",
        "    self.layer5 = conv_layer(128,256)\n",
        "    self.layer6 = conv_layer(256,256)\n",
        "    self.layer7 = conv_layer(256,256)\n",
        "    self.pool3 = nn.MaxPool2d(kernel_size=(2,2),stride=(2,2))\n",
        "    self.layer8 = conv_layer(256,512)\n",
        "    self.layer9 = conv_layer(512,512)\n",
        "    self.layer10 = conv_layer(512,512)\n",
        "    self.pool4 = nn.MaxPool2d(kernel_size=(2,2),stride=(2,2))\n",
        "    self.layer11 = conv_layer(512,512)\n",
        "    self.layer12 = conv_layer(512,512)\n",
        "    self.layer13 = conv_layer(512,512)\n",
        "    self.layer14 = nn.MaxPool2d(kernel_size=(2,2),stride=(2,2))\n",
        "    self.layer15 = nn.AdaptiveAvgPool2d(output_size=(1,1))\n",
        "    \n",
        "    self.fully_connected = nn.Sequential(\n",
        "        nn.Flatten(),\n",
        "        nn.Linear(512,128),\n",
        "        nn.ReLU(),\n",
        "        nn.Dropout(0.2),\n",
        "        nn.Linear(128,1),\n",
        "        nn.Sigmoid()\n",
        "    )\n",
        "\n",
        "  def forward(self,x):\n",
        "    x = self.layer1(x)\n",
        "    x = self.layer2(x)\n",
        "    x = self.pool1(x)\n",
        "    x = self.layer3(x)\n",
        "    x = self.layer4(x)\n",
        "    x = self.pool2(x)\n",
        "    x = self.layer5(x)\n",
        "    x = self.layer6(x)\n",
        "    x = self.layer7(x)\n",
        "    x = self.pool3(x)\n",
        "    x = self.layer8(x)\n",
        "    x = self.layer9(x)\n",
        "    x = self.layer10(x)\n",
        "    x = self.pool4(x)\n",
        "    x = self.layer11(x)\n",
        "    x = self.layer12(x)\n",
        "    x = self.layer13(x)\n",
        "    x = self.layer14(x)\n",
        "    x = self.layer15(x)\n",
        "    x = self.fully_connected(x)\n",
        "    return x"
      ],
      "execution_count": null,
      "outputs": []
    },
    {
      "cell_type": "code",
      "metadata": {
        "id": "gKZWGPjZ6oi0"
      },
      "source": [
        "model = VGG16(2)\n",
        "data = torch.zeros(1,3,224,224)\n",
        "output = model(data)"
      ],
      "execution_count": null,
      "outputs": []
    }
  ]
}