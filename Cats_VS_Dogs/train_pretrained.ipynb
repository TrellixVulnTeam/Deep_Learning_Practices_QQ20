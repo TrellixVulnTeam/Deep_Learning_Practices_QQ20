{
  "nbformat": 4,
  "nbformat_minor": 0,
  "metadata": {
    "colab": {
      "name": "train_pretrained.ipynb",
      "provenance": [],
      "mount_file_id": "1wWpbs0K55WRiksMMZ69_gU5rgR4F1kE8",
      "authorship_tag": "ABX9TyNdvjMcFWl+59rqBfbPY17c",
      "include_colab_link": true
    },
    "kernelspec": {
      "name": "python3",
      "display_name": "Python 3"
    },
    "language_info": {
      "name": "python"
    },
    "accelerator": "GPU",
    "widgets": {
      "application/vnd.jupyter.widget-state+json": {
        "719d67da356b405881ffffff511bc2d1": {
          "model_module": "@jupyter-widgets/controls",
          "model_name": "HBoxModel",
          "model_module_version": "1.5.0",
          "state": {
            "_view_name": "HBoxView",
            "_dom_classes": [],
            "_model_name": "HBoxModel",
            "_view_module": "@jupyter-widgets/controls",
            "_model_module_version": "1.5.0",
            "_view_count": null,
            "_view_module_version": "1.5.0",
            "box_style": "",
            "layout": "IPY_MODEL_cef0bacc5f04482cb1d9a37c59e8866d",
            "_model_module": "@jupyter-widgets/controls",
            "children": [
              "IPY_MODEL_88b0308d780248d3be9ac50bb92bb394",
              "IPY_MODEL_ccf3bdee34034bf3b9ce4d3411308e9d",
              "IPY_MODEL_77e41a234d2542ae990dcebbbee44fb7"
            ]
          }
        },
        "cef0bacc5f04482cb1d9a37c59e8866d": {
          "model_module": "@jupyter-widgets/base",
          "model_name": "LayoutModel",
          "model_module_version": "1.2.0",
          "state": {
            "_view_name": "LayoutView",
            "grid_template_rows": null,
            "right": null,
            "justify_content": null,
            "_view_module": "@jupyter-widgets/base",
            "overflow": null,
            "_model_module_version": "1.2.0",
            "_view_count": null,
            "flex_flow": null,
            "width": null,
            "min_width": null,
            "border": null,
            "align_items": null,
            "bottom": null,
            "_model_module": "@jupyter-widgets/base",
            "top": null,
            "grid_column": null,
            "overflow_y": null,
            "overflow_x": null,
            "grid_auto_flow": null,
            "grid_area": null,
            "grid_template_columns": null,
            "flex": null,
            "_model_name": "LayoutModel",
            "justify_items": null,
            "grid_row": null,
            "max_height": null,
            "align_content": null,
            "visibility": null,
            "align_self": null,
            "height": null,
            "min_height": null,
            "padding": null,
            "grid_auto_rows": null,
            "grid_gap": null,
            "max_width": null,
            "order": null,
            "_view_module_version": "1.2.0",
            "grid_template_areas": null,
            "object_position": null,
            "object_fit": null,
            "grid_auto_columns": null,
            "margin": null,
            "display": null,
            "left": null
          }
        },
        "88b0308d780248d3be9ac50bb92bb394": {
          "model_module": "@jupyter-widgets/controls",
          "model_name": "HTMLModel",
          "model_module_version": "1.5.0",
          "state": {
            "_view_name": "HTMLView",
            "style": "IPY_MODEL_bd0de29342914b319beb3a1ce5b2c542",
            "_dom_classes": [],
            "description": "",
            "_model_name": "HTMLModel",
            "placeholder": "​",
            "_view_module": "@jupyter-widgets/controls",
            "_model_module_version": "1.5.0",
            "value": "100%",
            "_view_count": null,
            "_view_module_version": "1.5.0",
            "description_tooltip": null,
            "_model_module": "@jupyter-widgets/controls",
            "layout": "IPY_MODEL_6ca9aa42bc3c42b2a05827f8991ebdfc"
          }
        },
        "ccf3bdee34034bf3b9ce4d3411308e9d": {
          "model_module": "@jupyter-widgets/controls",
          "model_name": "FloatProgressModel",
          "model_module_version": "1.5.0",
          "state": {
            "_view_name": "ProgressView",
            "style": "IPY_MODEL_d1304c5a400647089b9301e3e7352696",
            "_dom_classes": [],
            "description": "",
            "_model_name": "FloatProgressModel",
            "bar_style": "success",
            "max": 553433881,
            "_view_module": "@jupyter-widgets/controls",
            "_model_module_version": "1.5.0",
            "value": 553433881,
            "_view_count": null,
            "_view_module_version": "1.5.0",
            "orientation": "horizontal",
            "min": 0,
            "description_tooltip": null,
            "_model_module": "@jupyter-widgets/controls",
            "layout": "IPY_MODEL_b3bae2a770324827a4b8eac787fce10c"
          }
        },
        "77e41a234d2542ae990dcebbbee44fb7": {
          "model_module": "@jupyter-widgets/controls",
          "model_name": "HTMLModel",
          "model_module_version": "1.5.0",
          "state": {
            "_view_name": "HTMLView",
            "style": "IPY_MODEL_53534769df16458d90f7d944f5b42aff",
            "_dom_classes": [],
            "description": "",
            "_model_name": "HTMLModel",
            "placeholder": "​",
            "_view_module": "@jupyter-widgets/controls",
            "_model_module_version": "1.5.0",
            "value": " 528M/528M [00:05&lt;00:00, 110MB/s]",
            "_view_count": null,
            "_view_module_version": "1.5.0",
            "description_tooltip": null,
            "_model_module": "@jupyter-widgets/controls",
            "layout": "IPY_MODEL_2a1287a2cd6b4a9782928492255ab874"
          }
        },
        "bd0de29342914b319beb3a1ce5b2c542": {
          "model_module": "@jupyter-widgets/controls",
          "model_name": "DescriptionStyleModel",
          "model_module_version": "1.5.0",
          "state": {
            "_view_name": "StyleView",
            "_model_name": "DescriptionStyleModel",
            "description_width": "",
            "_view_module": "@jupyter-widgets/base",
            "_model_module_version": "1.5.0",
            "_view_count": null,
            "_view_module_version": "1.2.0",
            "_model_module": "@jupyter-widgets/controls"
          }
        },
        "6ca9aa42bc3c42b2a05827f8991ebdfc": {
          "model_module": "@jupyter-widgets/base",
          "model_name": "LayoutModel",
          "model_module_version": "1.2.0",
          "state": {
            "_view_name": "LayoutView",
            "grid_template_rows": null,
            "right": null,
            "justify_content": null,
            "_view_module": "@jupyter-widgets/base",
            "overflow": null,
            "_model_module_version": "1.2.0",
            "_view_count": null,
            "flex_flow": null,
            "width": null,
            "min_width": null,
            "border": null,
            "align_items": null,
            "bottom": null,
            "_model_module": "@jupyter-widgets/base",
            "top": null,
            "grid_column": null,
            "overflow_y": null,
            "overflow_x": null,
            "grid_auto_flow": null,
            "grid_area": null,
            "grid_template_columns": null,
            "flex": null,
            "_model_name": "LayoutModel",
            "justify_items": null,
            "grid_row": null,
            "max_height": null,
            "align_content": null,
            "visibility": null,
            "align_self": null,
            "height": null,
            "min_height": null,
            "padding": null,
            "grid_auto_rows": null,
            "grid_gap": null,
            "max_width": null,
            "order": null,
            "_view_module_version": "1.2.0",
            "grid_template_areas": null,
            "object_position": null,
            "object_fit": null,
            "grid_auto_columns": null,
            "margin": null,
            "display": null,
            "left": null
          }
        },
        "d1304c5a400647089b9301e3e7352696": {
          "model_module": "@jupyter-widgets/controls",
          "model_name": "ProgressStyleModel",
          "model_module_version": "1.5.0",
          "state": {
            "_view_name": "StyleView",
            "_model_name": "ProgressStyleModel",
            "description_width": "",
            "_view_module": "@jupyter-widgets/base",
            "_model_module_version": "1.5.0",
            "_view_count": null,
            "_view_module_version": "1.2.0",
            "bar_color": null,
            "_model_module": "@jupyter-widgets/controls"
          }
        },
        "b3bae2a770324827a4b8eac787fce10c": {
          "model_module": "@jupyter-widgets/base",
          "model_name": "LayoutModel",
          "model_module_version": "1.2.0",
          "state": {
            "_view_name": "LayoutView",
            "grid_template_rows": null,
            "right": null,
            "justify_content": null,
            "_view_module": "@jupyter-widgets/base",
            "overflow": null,
            "_model_module_version": "1.2.0",
            "_view_count": null,
            "flex_flow": null,
            "width": null,
            "min_width": null,
            "border": null,
            "align_items": null,
            "bottom": null,
            "_model_module": "@jupyter-widgets/base",
            "top": null,
            "grid_column": null,
            "overflow_y": null,
            "overflow_x": null,
            "grid_auto_flow": null,
            "grid_area": null,
            "grid_template_columns": null,
            "flex": null,
            "_model_name": "LayoutModel",
            "justify_items": null,
            "grid_row": null,
            "max_height": null,
            "align_content": null,
            "visibility": null,
            "align_self": null,
            "height": null,
            "min_height": null,
            "padding": null,
            "grid_auto_rows": null,
            "grid_gap": null,
            "max_width": null,
            "order": null,
            "_view_module_version": "1.2.0",
            "grid_template_areas": null,
            "object_position": null,
            "object_fit": null,
            "grid_auto_columns": null,
            "margin": null,
            "display": null,
            "left": null
          }
        },
        "53534769df16458d90f7d944f5b42aff": {
          "model_module": "@jupyter-widgets/controls",
          "model_name": "DescriptionStyleModel",
          "model_module_version": "1.5.0",
          "state": {
            "_view_name": "StyleView",
            "_model_name": "DescriptionStyleModel",
            "description_width": "",
            "_view_module": "@jupyter-widgets/base",
            "_model_module_version": "1.5.0",
            "_view_count": null,
            "_view_module_version": "1.2.0",
            "_model_module": "@jupyter-widgets/controls"
          }
        },
        "2a1287a2cd6b4a9782928492255ab874": {
          "model_module": "@jupyter-widgets/base",
          "model_name": "LayoutModel",
          "model_module_version": "1.2.0",
          "state": {
            "_view_name": "LayoutView",
            "grid_template_rows": null,
            "right": null,
            "justify_content": null,
            "_view_module": "@jupyter-widgets/base",
            "overflow": null,
            "_model_module_version": "1.2.0",
            "_view_count": null,
            "flex_flow": null,
            "width": null,
            "min_width": null,
            "border": null,
            "align_items": null,
            "bottom": null,
            "_model_module": "@jupyter-widgets/base",
            "top": null,
            "grid_column": null,
            "overflow_y": null,
            "overflow_x": null,
            "grid_auto_flow": null,
            "grid_area": null,
            "grid_template_columns": null,
            "flex": null,
            "_model_name": "LayoutModel",
            "justify_items": null,
            "grid_row": null,
            "max_height": null,
            "align_content": null,
            "visibility": null,
            "align_self": null,
            "height": null,
            "min_height": null,
            "padding": null,
            "grid_auto_rows": null,
            "grid_gap": null,
            "max_width": null,
            "order": null,
            "_view_module_version": "1.2.0",
            "grid_template_areas": null,
            "object_position": null,
            "object_fit": null,
            "grid_auto_columns": null,
            "margin": null,
            "display": null,
            "left": null
          }
        }
      }
    }
  },
  "cells": [
    {
      "cell_type": "markdown",
      "metadata": {
        "id": "view-in-github",
        "colab_type": "text"
      },
      "source": [
        "<a href=\"https://colab.research.google.com/github/taravatp/cats_vs_dogs/blob/main/train_pretrained.ipynb\" target=\"_parent\"><img src=\"https://colab.research.google.com/assets/colab-badge.svg\" alt=\"Open In Colab\"/></a>"
      ]
    },
    {
      "cell_type": "code",
      "metadata": {
        "id": "bBIDsl2m2twj",
        "colab": {
          "base_uri": "https://localhost:8080/"
        },
        "outputId": "bec18d24-e484-4171-92ac-9ac7d02f8d90"
      },
      "source": [
        "from google.colab import drive\n",
        "drive.mount('/content/drive')"
      ],
      "execution_count": null,
      "outputs": [
        {
          "output_type": "stream",
          "name": "stdout",
          "text": [
            "Drive already mounted at /content/drive; to attempt to forcibly remount, call drive.mount(\"/content/drive\", force_remount=True).\n"
          ]
        }
      ]
    },
    {
      "cell_type": "code",
      "metadata": {
        "id": "TVvD5qrU4RpA",
        "colab": {
          "base_uri": "https://localhost:8080/"
        },
        "outputId": "117b72a4-382b-42c5-ed83-908cfeda4a5f"
      },
      "source": [
        "cd /content/drive/MyDrive/cats_vs_dogs/"
      ],
      "execution_count": null,
      "outputs": [
        {
          "output_type": "stream",
          "name": "stdout",
          "text": [
            "/content/drive/MyDrive/cats_vs_dogs\n"
          ]
        }
      ]
    },
    {
      "cell_type": "code",
      "metadata": {
        "id": "ccCspM6M5nhP",
        "colab": {
          "base_uri": "https://localhost:8080/"
        },
        "outputId": "629980fb-995b-4f1a-80de-67e046671e2f"
      },
      "source": [
        "!pip install import_ipynb "
      ],
      "execution_count": null,
      "outputs": [
        {
          "output_type": "stream",
          "name": "stdout",
          "text": [
            "Collecting import_ipynb\n",
            "  Downloading import-ipynb-0.1.3.tar.gz (4.0 kB)\n",
            "Building wheels for collected packages: import-ipynb\n",
            "  Building wheel for import-ipynb (setup.py) ... \u001b[?25l\u001b[?25hdone\n",
            "  Created wheel for import-ipynb: filename=import_ipynb-0.1.3-py3-none-any.whl size=2975 sha256=28c9e30acabe391a5b5ed21161c8c73ae5f266d83724eeb8a3ac68337d2f7dd8\n",
            "  Stored in directory: /root/.cache/pip/wheels/b1/5e/dc/79780689896a056199b0b9f24471e3ee184fbd816df355d5f0\n",
            "Successfully built import-ipynb\n",
            "Installing collected packages: import-ipynb\n",
            "Successfully installed import-ipynb-0.1.3\n"
          ]
        }
      ]
    },
    {
      "cell_type": "code",
      "metadata": {
        "id": "4pKPBq073aYp"
      },
      "source": [
        "import torch\n",
        "import torch.nn as nn\n",
        "import import_ipynb\n",
        "from torchvision import models\n",
        "import dataset\n",
        "from torch.utils.data import Dataset,DataLoader\n",
        "from dataset import vgg_dataset\n",
        "import time\n",
        "import numpy as np"
      ],
      "execution_count": null,
      "outputs": []
    },
    {
      "cell_type": "code",
      "metadata": {
        "id": "ZiDms8D76UWF",
        "colab": {
          "base_uri": "https://localhost:8080/"
        },
        "outputId": "533237b8-00b4-45e0-e25e-44491fc26f58"
      },
      "source": [
        "!pip install torch_summary\n",
        "from torchsummary import summary"
      ],
      "execution_count": null,
      "outputs": [
        {
          "output_type": "stream",
          "name": "stdout",
          "text": [
            "Collecting torch_summary\n",
            "  Downloading torch_summary-1.4.5-py3-none-any.whl (16 kB)\n",
            "Installing collected packages: torch-summary\n",
            "Successfully installed torch-summary-1.4.5\n"
          ]
        }
      ]
    },
    {
      "cell_type": "code",
      "metadata": {
        "id": "lraO3Q4O8lns"
      },
      "source": [
        "device = torch.device('cuda') if torch.cuda.is_available() else torch.device('cpu')"
      ],
      "execution_count": null,
      "outputs": []
    },
    {
      "cell_type": "markdown",
      "metadata": {
        "id": "XSNolVZKcz7C"
      },
      "source": [
        "# Loading data"
      ]
    },
    {
      "cell_type": "code",
      "metadata": {
        "id": "gZM2lh9IaZnC"
      },
      "source": [
        "train_root = '/content/drive/MyDrive/cats_vs_dogs/training_set/training_set'\n",
        "valid_root =  '/content/drive/MyDrive/cats_vs_dogs/test_set/test_set'\n",
        "train_set = vgg_dataset(dataset_path=train_root)\n",
        "valid_set = vgg_dataset(dataset_path=valid_root)\n",
        "\n",
        "batch_size = 32\n",
        "data_loader_train = DataLoader(train_set, batch_size=batch_size, shuffle=True, drop_last=True) \n",
        "data_loader_valid = DataLoader(valid_set, batch_size=batch_size, shuffle=True, drop_last=True) "
      ],
      "execution_count": null,
      "outputs": []
    },
    {
      "cell_type": "markdown",
      "metadata": {
        "id": "000vTpjXc2lH"
      },
      "source": [
        "# defining model - optimizer and loss function"
      ]
    },
    {
      "cell_type": "code",
      "metadata": {
        "colab": {
          "base_uri": "https://localhost:8080/",
          "height": 66,
          "referenced_widgets": [
            "719d67da356b405881ffffff511bc2d1",
            "cef0bacc5f04482cb1d9a37c59e8866d",
            "88b0308d780248d3be9ac50bb92bb394",
            "ccf3bdee34034bf3b9ce4d3411308e9d",
            "77e41a234d2542ae990dcebbbee44fb7",
            "bd0de29342914b319beb3a1ce5b2c542",
            "6ca9aa42bc3c42b2a05827f8991ebdfc",
            "d1304c5a400647089b9301e3e7352696",
            "b3bae2a770324827a4b8eac787fce10c",
            "53534769df16458d90f7d944f5b42aff",
            "2a1287a2cd6b4a9782928492255ab874"
          ]
        },
        "id": "vxA6op6wc-WZ",
        "outputId": "131872c9-ba01-46ee-cbfa-c87f1f1ca3a7"
      },
      "source": [
        "model = models.vgg16(pretrained=True)\n",
        "for param in model.parameters():\n",
        "  param.requires_grad = False\n",
        "  \n",
        "model.avgpool = nn.AdaptiveAvgPool2d(output_size=(1,1))\n",
        "model.classifier = nn.Sequential(nn.Flatten(),\n",
        "                                 nn.Linear(512,128),\n",
        "                                 nn.ReLU(),\n",
        "                                 nn.Dropout(0.2),\n",
        "                                 nn.Linear(128,1),\n",
        "                                 nn.Sigmoid())\n",
        "model = model.to(device)"
      ],
      "execution_count": null,
      "outputs": [
        {
          "output_type": "stream",
          "name": "stderr",
          "text": [
            "Downloading: \"https://download.pytorch.org/models/vgg16-397923af.pth\" to /root/.cache/torch/hub/checkpoints/vgg16-397923af.pth\n"
          ]
        },
        {
          "output_type": "display_data",
          "data": {
            "application/vnd.jupyter.widget-view+json": {
              "model_id": "719d67da356b405881ffffff511bc2d1",
              "version_minor": 0,
              "version_major": 2
            },
            "text/plain": [
              "  0%|          | 0.00/528M [00:00<?, ?B/s]"
            ]
          },
          "metadata": {}
        }
      ]
    },
    {
      "cell_type": "code",
      "metadata": {
        "id": "B_5nveLSdI-T"
      },
      "source": [
        "loss_function = nn.BCELoss()\n",
        "learning_rate = 1e-3\n",
        "optimizer = torch.optim.Adam(model.parameters(),lr=learning_rate)"
      ],
      "execution_count": null,
      "outputs": []
    },
    {
      "cell_type": "markdown",
      "metadata": {
        "id": "vAIno6OfdU8v"
      },
      "source": [
        "# training and validating"
      ]
    },
    {
      "cell_type": "code",
      "metadata": {
        "colab": {
          "base_uri": "https://localhost:8080/"
        },
        "id": "T15YtdAQdiUq",
        "outputId": "aabe952f-f1a9-41e5-dbe2-46222bbd0c00"
      },
      "source": [
        "num_epochs = 5\n",
        "train_total_loss, train_total_accuracy, valid_total_accuracy= [],[],[]\n",
        "for epoch in range(num_epochs):\n",
        "  train_epoch_loss,train_epoch_accuracy,valid_epoch_accuracy=[],[],[] \n",
        "  model.train()\n",
        "  time_start = time.time()\n",
        "\n",
        "  for iteration,batch in enumerate(iter(data_loader_train)):\n",
        "    input_image , label = batch\n",
        "    prediction = model(input_image)\n",
        "    batch_loss = loss_function(prediction,label)\n",
        "    batch_loss.backward()\n",
        "    optimizer.step()\n",
        "    optimizer.zero_grad()\n",
        "    train_epoch_loss.append(batch_loss.item())\n",
        "\n",
        "  for iteration,batch in enumerate(iter(data_loader_train)):\n",
        "    model.eval()\n",
        "    input_image , label = batch\n",
        "    prediction = model(input_image)\n",
        "    is_correct = ((prediction>0.5) == label).cpu().numpy().tolist()\n",
        "    train_epoch_accuracy.extend(is_correct)\n",
        "  \n",
        "  for iteration,batch in enumerate(iter(data_loader_valid)):\n",
        "    model.eval()\n",
        "    input_image , label = batch\n",
        "    prediction = model(input_image)\n",
        "    is_correct = ((prediction>0.5) == label).cpu().numpy().tolist()\n",
        "    valid_epoch_accuracy.extend(is_correct)\n",
        "\n",
        "  train_total_loss.append(np.array(train_epoch_loss).mean())\n",
        "  train_total_accuracy.append(np.mean(train_epoch_accuracy))\n",
        "  valid_total_accuracy.append(np.mean(valid_epoch_accuracy))\n",
        "\n",
        "  print(\"Finished epoch[{}], time elapsed[{}]\".format(epoch, time.time() - time_start))\n",
        "  torch.save(model.state_dict(), f\"model{epoch}_batch_{batch_size}.pth\")\n"
      ],
      "execution_count": null,
      "outputs": [
        {
          "output_type": "stream",
          "name": "stderr",
          "text": [
            "/usr/local/lib/python3.7/dist-packages/torch/nn/functional.py:718: UserWarning: Named tensors and all their associated APIs are an experimental feature and subject to change. Please do not use them for anything important until they are released as stable. (Triggered internally at  /pytorch/c10/core/TensorImpl.h:1156.)\n",
            "  return torch.max_pool2d(input, kernel_size, stride, padding, dilation, ceil_mode)\n"
          ]
        },
        {
          "output_type": "stream",
          "name": "stdout",
          "text": [
            "Finished epoch[0], time elapsed[938.2352731227875]\n",
            "Finished epoch[1], time elapsed[81.71933317184448]\n",
            "Finished epoch[2], time elapsed[93.4764986038208]\n",
            "Finished epoch[3], time elapsed[94.52849340438843]\n",
            "Finished epoch[4], time elapsed[94.33191394805908]\n"
          ]
        }
      ]
    },
    {
      "cell_type": "code",
      "metadata": {
        "colab": {
          "base_uri": "https://localhost:8080/"
        },
        "id": "PCu8Vu-ZJRLy",
        "outputId": "901f5f04-e37b-4a41-c404-da99dbc7e291"
      },
      "source": [
        "print(train_total_loss)\n",
        "print(train_total_accuracy)\n",
        "print(valid_total_accuracy)"
      ],
      "execution_count": null,
      "outputs": [
        {
          "output_type": "stream",
          "name": "stdout",
          "text": [
            "[0.24638657596322797, 0.053860062432865945, 0.03504667456652368, 0.027549434498312972, 0.02296213992691088]\n",
            "[0.9788306451612904, 0.9929435483870968, 0.9949596774193549, 0.9979838709677419, 0.998991935483871]\n",
            "[0.9788306451612904, 0.9919354838709677, 0.9889112903225806, 0.9879032258064516, 0.9848790322580645]\n"
          ]
        }
      ]
    },
    {
      "cell_type": "code",
      "metadata": {
        "colab": {
          "base_uri": "https://localhost:8080/",
          "height": 312
        },
        "id": "610jyTv5JWvN",
        "outputId": "ff16d5d8-7396-4a7f-999d-3e3cf1debee1"
      },
      "source": [
        "import matplotlib.pyplot as plt\n",
        "%matplotlib inline\n",
        "plt.title('itain loss over increasing epochs')\n",
        "plt.xlabel('epochs')\n",
        "plt.ylabel('loss')\n",
        "plt.plot(train_total_loss)"
      ],
      "execution_count": null,
      "outputs": [
        {
          "output_type": "execute_result",
          "data": {
            "text/plain": [
              "[<matplotlib.lines.Line2D at 0x7f4ae17f99d0>]"
            ]
          },
          "metadata": {},
          "execution_count": 14
        },
        {
          "output_type": "display_data",
          "data": {
            "image/png": "[encoded data removed]",
            "text/plain": [
              "<Figure size 432x288 with 1 Axes>"
            ]
          },
          "metadata": {
            "needs_background": "light"
          }
        }
      ]
    },
    {
      "cell_type": "code",
      "metadata": {
        "colab": {
          "base_uri": "https://localhost:8080/",
          "height": 624
        },
        "id": "aHS_q19rJ6l_",
        "outputId": "d20767d1-4870-41cc-80e7-21d39bc8ae85"
      },
      "source": [
        "figure, axis = plt.subplots(2,figsize=(15,10))\n",
        "axis[0].plot(train_total_accuracy)\n",
        "axis[0].set_title('train set accuracy over increasing epochs')\n",
        "axis[1].plot(valid_total_accuracy)\n",
        "axis[1].set_title('validation set accuracy over increasing epochs')"
      ],
      "execution_count": null,
      "outputs": [
        {
          "output_type": "execute_result",
          "data": {
            "text/plain": [
              "Text(0.5, 1.0, 'validation set accuracy over increasing epochs')"
            ]
          },
          "metadata": {},
          "execution_count": 23
        },
        {
          "output_type": "display_data",
          "data": {
            "image/png": "[encoded data removed]",
            "text/plain": [
              "<Figure size 1080x720 with 2 Axes>"
            ]
          },
          "metadata": {
            "needs_background": "light"
          }
        }
      ]
    },
    {
      "cell_type": "code",
      "metadata": {
        "id": "O6Jc3LvMKoz6"
      },
      "source": [
        ""
      ],
      "execution_count": null,
      "outputs": []
    }
  ]
}