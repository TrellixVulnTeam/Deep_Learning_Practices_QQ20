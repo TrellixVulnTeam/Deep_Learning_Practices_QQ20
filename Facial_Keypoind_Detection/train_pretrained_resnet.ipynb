{
  "nbformat": 4,
  "nbformat_minor": 0,
  "metadata": {
    "accelerator": "GPU",
    "colab": {
      "name": "train_pretrained_resnet.ipynb",
      "provenance": [],
      "mount_file_id": "1sf30cz2vYaj3igmhi1VKrGFUj4GstYIL",
      "authorship_tag": "ABX9TyPTrNqSaj6QIVxNe2ei71bh",
      "include_colab_link": true
    },
    "kernelspec": {
      "display_name": "Python 3",
      "name": "python3"
    },
    "language_info": {
      "name": "python"
    }
  },
  "cells": [
    {
      "cell_type": "markdown",
      "metadata": {
        "id": "view-in-github",
        "colab_type": "text"
      },
      "source": [
        "<a href=\"https://colab.research.google.com/github/taravatp/Facial_Keypoint_Detection/blob/main/train_pretrained_resnet.ipynb\" target=\"_parent\"><img src=\"https://colab.research.google.com/assets/colab-badge.svg\" alt=\"Open In Colab\"/></a>"
      ]
    },
    {
      "cell_type": "markdown",
      "metadata": {
        "id": "G5I4gjDuJj9q"
      },
      "source": [
        "# Importing packages"
      ]
    },
    {
      "cell_type": "code",
      "metadata": {
        "colab": {
          "base_uri": "https://localhost:8080/"
        },
        "id": "iPjlJltkjuKU",
        "outputId": "a2c93fb0-7d0f-47e3-fa46-1c8dd89fdce9"
      },
      "source": [
        "cd \"/content/drive/MyDrive/facial_keypoint_detection/\""
      ],
      "execution_count": null,
      "outputs": [
        {
          "output_type": "stream",
          "name": "stdout",
          "text": [
            "/content/drive/MyDrive/facial_keypoint_detection\n"
          ]
        }
      ]
    },
    {
      "cell_type": "code",
      "metadata": {
        "colab": {
          "base_uri": "https://localhost:8080/"
        },
        "id": "0OgT80IRj7bY",
        "outputId": "a914ce35-305c-4d0f-b780-fdc741a96b0f"
      },
      "source": [
        "!pip install import_ipynb "
      ],
      "execution_count": null,
      "outputs": [
        {
          "output_type": "stream",
          "name": "stdout",
          "text": [
            "Requirement already satisfied: import_ipynb in /usr/local/lib/python3.7/dist-packages (0.1.3)\n"
          ]
        }
      ]
    },
    {
      "cell_type": "code",
      "metadata": {
        "id": "shvYXbXWJmNS"
      },
      "source": [
        "import torchvision\n",
        "from torchvision import models,datasets,transforms\n",
        "import torch\n",
        "import torch.nn as nn\n",
        "import torch.nn.functional as F\n",
        "import numpy as np,pandas as pd,os,glob,cv2\n",
        "import matplotlib.pyplot as plt\n",
        "%matplotlib inline\n",
        "from torch.utils.data import DataLoader,Dataset,TensorDataset\n",
        "from sklearn import cluster\n",
        "from sklearn.model_selection import train_test_split\n",
        "\n",
        "import import_ipynb"
      ],
      "execution_count": null,
      "outputs": []
    },
    {
      "cell_type": "code",
      "metadata": {
        "id": "nP6UJ3AbGPdn",
        "colab": {
          "base_uri": "https://localhost:8080/"
        },
        "outputId": "1239481d-83a4-46a9-91f0-86fefe878a79"
      },
      "source": [
        "import dataset \n",
        "from dataset import facial_keypoint"
      ],
      "execution_count": null,
      "outputs": [
        {
          "output_type": "stream",
          "name": "stdout",
          "text": [
            "importing Jupyter notebook from dataset.ipynb\n"
          ]
        }
      ]
    },
    {
      "cell_type": "code",
      "metadata": {
        "colab": {
          "base_uri": "https://localhost:8080/"
        },
        "id": "2I_4XiiTkDWB",
        "outputId": "188f6e83-3761-40e0-a5a5-126ee18dbfb7"
      },
      "source": [
        "!pip install torch_summary\n",
        "from torchsummary import summary"
      ],
      "execution_count": null,
      "outputs": [
        {
          "output_type": "stream",
          "name": "stdout",
          "text": [
            "Requirement already satisfied: torch_summary in /usr/local/lib/python3.7/dist-packages (1.4.5)\n"
          ]
        }
      ]
    },
    {
      "cell_type": "code",
      "metadata": {
        "id": "-S7t73_wkGl3"
      },
      "source": [
        "device = torch.device(\"cuda\") if torch.cuda.is_available() else torch.device(\"cpu\")"
      ],
      "execution_count": null,
      "outputs": []
    },
    {
      "cell_type": "markdown",
      "metadata": {
        "id": "MV188i-uhxVF"
      },
      "source": [
        "# preparing data\n"
      ]
    },
    {
      "cell_type": "code",
      "metadata": {
        "id": "1WUU1o08h98N"
      },
      "source": [
        "data_directory ='/content/drive/MyDrive/facial_keypoint_detection/P1_Facial_Keypoints/data/training/'\n",
        "data = pd.read_csv('/content/drive/MyDrive/facial_keypoint_detection/P1_Facial_Keypoints/data/training_frames_keypoints.csv')\n",
        "train, test = train_test_split(data,test_size=0.2,random_state=101)\n",
        "\n",
        "train_data = facial_keypoint(train.reset_index(drop=True),data_directory) #reset index reuslts in all the indices start from 0\n",
        "test_data = facial_keypoint(test.reset_index(drop=True),data_directory)\n",
        "\n",
        "data_loader_train = DataLoader(train_data,batch_size=32)\n",
        "data_loader_test = DataLoader(test_data,batch_size=32)"
      ],
      "execution_count": null,
      "outputs": []
    },
    {
      "cell_type": "markdown",
      "metadata": {
        "id": "gbsyrYUKJmuy"
      },
      "source": [
        "# Defining model"
      ]
    },
    {
      "cell_type": "code",
      "metadata": {
        "id": "cMUxtZG-Jrii"
      },
      "source": [
        "model = models.resnet50(pretrained=True)\n",
        "for param in model.parameters():\n",
        "  param.requires_grad = False\n",
        "model.fc = nn.Linear(2048,136) #over writing the last layer of resnet50 model\n",
        "model = model.to(device)"
      ],
      "execution_count": null,
      "outputs": []
    },
    {
      "cell_type": "markdown",
      "metadata": {
        "id": "CJRMFukGJtNr"
      },
      "source": [
        "#Defining loss function, optimizer and hyper-parameters"
      ]
    },
    {
      "cell_type": "code",
      "metadata": {
        "id": "cw1qwIJ8JxvH"
      },
      "source": [
        "loss_function = nn.L1Loss()\n",
        "learning_rate = 1e-4\n",
        "optimizer = torch.optim.Adam(model.parameters(),lr = learning_rate)\n",
        "epochs = 10"
      ],
      "execution_count": null,
      "outputs": []
    },
    {
      "cell_type": "markdown",
      "metadata": {
        "id": "Sf7yKcBrJ0jj"
      },
      "source": [
        "#Training"
      ]
    },
    {
      "cell_type": "code",
      "metadata": {
        "colab": {
          "base_uri": "https://localhost:8080/"
        },
        "id": "14F1anibJ2d5",
        "outputId": "9eb5dc82-5f07-451a-bd99-e5178c38468c"
      },
      "source": [
        "train_loss = []\n",
        "test_loss = []\n",
        "RMSE_accuracy = []\n",
        "for epoch in range(epochs):\n",
        "  print(\"epoch number:\",epoch)\n",
        "\n",
        "  epoch_train_loss = 0\n",
        "  for iteration,(image,keypoints) in enumerate(data_loader_train):\n",
        "    model.train()\n",
        "    optimizer.zero_grad()\n",
        "    prediction = model(image.to(device))\n",
        "    batch_loss = loss_function(prediction,keypoints)\n",
        "    batch_loss.backward()\n",
        "    optimizer.step()\n",
        "    epoch_train_loss += batch_loss.item()\n",
        "  train_loss.append(epoch_train_loss/(iteration+1))\n",
        "  print(f\"train loss:{epoch_train_loss/(iteration+1)}\")\n",
        "\n",
        "  epoch_test_loss = 0\n",
        "  for iteration,(image,keypoints) in enumerate(data_loader_test):\n",
        "    model.eval()\n",
        "    prediction = model(image.to(device))\n",
        "    test_batch_loss = loss_function(prediction,keypoints)\n",
        "    epoch_test_loss += test_batch_loss.item()\n",
        "  test_loss.append(epoch_test_loss/(iteration+1))\n",
        "  print(f\"test loss:{epoch_test_loss/(iteration+1)}\")\n",
        "\n",
        "  losses = []\n",
        "  #num_emxamples = 0\n",
        "  for iteration, (image,keypoints) in enumerate(data_loader_test):\n",
        "    model.eval()\n",
        "    prediction = model(image.to(device))\n",
        "    rmse = nn.MSELoss()(prediction,keypoints)\n",
        "    #num_emxamples += prediction.shape[0]\n",
        "    losses.append(rmse)\n",
        "  RMSE_accuracy.append(sum(losses) ** 0.5)\n",
        "  print(f\"RMSE accuracy:{sum(losses) ** 0.5}\")\n",
        "  torch.save(model.state_dict(),f\"model_epoch:{epoch}\")\n"
      ],
      "execution_count": null,
      "outputs": [
        {
          "output_type": "stream",
          "name": "stdout",
          "text": [
            "epoch number: 0\n"
          ]
        },
        {
          "output_type": "stream",
          "name": "stderr",
          "text": [
            "/usr/local/lib/python3.7/dist-packages/torch/nn/functional.py:718: UserWarning: Named tensors and all their associated APIs are an experimental feature and subject to change. Please do not use them for anything important until they are released as stable. (Triggered internally at  /pytorch/c10/core/TensorImpl.h:1156.)\n",
            "  return torch.max_pool2d(input, kernel_size, stride, padding, dilation, ceil_mode)\n"
          ]
        },
        {
          "output_type": "stream",
          "name": "stdout",
          "text": [
            "train loss:0.16449464121084104\n",
            "test loss:0.12932760945775293\n",
            "RMSE accuracy:0.7696636915206909\n",
            "epoch number: 1\n",
            "train loss:0.11105980578510241\n",
            "test loss:0.10578412528742444\n",
            "RMSE accuracy:0.6304723620414734\n",
            "epoch number: 2\n",
            "train loss:0.09263206641564424\n",
            "test loss:0.09172176400368864\n",
            "RMSE accuracy:0.5454592108726501\n",
            "epoch number: 3\n",
            "train loss:0.08144294136557086\n",
            "test loss:0.08292574367739937\n",
            "RMSE accuracy:0.4927995204925537\n",
            "epoch number: 4\n",
            "train loss:0.07410568975169084\n",
            "test loss:0.07748381996696646\n",
            "RMSE accuracy:0.46002617478370667\n",
            "epoch number: 5\n",
            "train loss:0.0692468922285513\n",
            "test loss:0.07319776307452809\n",
            "RMSE accuracy:0.43460074067115784\n",
            "epoch number: 6\n",
            "train loss:0.06556707582083242\n",
            "test loss:0.07041889462958682\n",
            "RMSE accuracy:0.4179430305957794\n",
            "epoch number: 7\n",
            "train loss:0.06284434810794633\n",
            "test loss:0.0681604380634698\n",
            "RMSE accuracy:0.4045052230358124\n",
            "epoch number: 8\n",
            "train loss:0.06087012559004214\n",
            "test loss:0.06640385514633222\n",
            "RMSE accuracy:0.394173800945282\n",
            "epoch number: 9\n",
            "train loss:0.05916493758559227\n",
            "test loss:0.06506459990685637\n",
            "RMSE accuracy:0.38663187623023987\n"
          ]
        }
      ]
    },
    {
      "cell_type": "code",
      "metadata": {
        "colab": {
          "base_uri": "https://localhost:8080/",
          "height": 367
        },
        "id": "EpWASqZ6SchL",
        "outputId": "2268708e-89f9-4b52-986e-e8b0504add9d"
      },
      "source": [
        "plt.figure(figsize=(20,5))\n",
        "plt.subplot(121)\n",
        "plt.title('train loss over increasing epochs')\n",
        "plt.xlabel('epochs')\n",
        "plt.ylabel('train loss')\n",
        "plt.plot(train_loss)\n",
        "plt.subplot(122)\n",
        "plt.title('test loss over increasing epochs')\n",
        "plt.xlabel('epochs')\n",
        "plt.ylabel('test loss')\n",
        "plt.plot(test_loss)"
      ],
      "execution_count": null,
      "outputs": [
        {
          "output_type": "execute_result",
          "data": {
            "text/plain": [
              "[<matplotlib.lines.Line2D at 0x7f01ebbc9a90>]"
            ]
          },
          "metadata": {},
          "execution_count": 11
        },
        {
          "output_type": "display_data",
          "data": {
            "image/png": "[encoded data removed]",
            "text/plain": [
              "<Figure size 1440x360 with 2 Axes>"
            ]
          },
          "metadata": {
            "needs_background": "light"
          }
        }
      ]
    },
    {
      "cell_type": "code",
      "metadata": {
        "colab": {
          "base_uri": "https://localhost:8080/"
        },
        "id": "CBqPnGsVE7RI",
        "outputId": "aa1b5298-f977-4c73-e6e9-3730de20089e"
      },
      "source": [
        "print(train_loss)\n",
        "print(test_loss)"
      ],
      "execution_count": null,
      "outputs": [
        {
          "output_type": "stream",
          "name": "stdout",
          "text": [
            "[0.16449464121084104, 0.11105980578510241, 0.09263206641564424, 0.08144294136557086, 0.07410568975169084, 0.0692468922285513, 0.06556707582083242, 0.06284434810794633, 0.06087012559004214, 0.05916493758559227]\n",
            "[0.12932760945775293, 0.10578412528742444, 0.09172176400368864, 0.08292574367739937, 0.07748381996696646, 0.07319776307452809, 0.07041889462958682, 0.0681604380634698, 0.06640385514633222, 0.06506459990685637]\n"
          ]
        }
      ]
    },
    {
      "cell_type": "code",
      "metadata": {
        "id": "DhdesLOnJWi6",
        "colab": {
          "base_uri": "https://localhost:8080/",
          "height": 638
        },
        "outputId": "04bc5420-0f41-4292-86f2-b628a3a6005e"
      },
      "source": [
        "plt.figure(figsize=(10,10))\n",
        "plt.title('RMSE accuracy over increasing epochs')\n",
        "plt.xlabel('epochs')\n",
        "plt.ylabel('RMSE accuracy')\n",
        "plt.plot(RMSE_accuracy)"
      ],
      "execution_count": null,
      "outputs": [
        {
          "output_type": "execute_result",
          "data": {
            "text/plain": [
              "[<matplotlib.lines.Line2D at 0x7f01ebc380d0>]"
            ]
          },
          "metadata": {},
          "execution_count": 13
        },
        {
          "output_type": "display_data",
          "data": {
            "image/png": "[encoded data removed]",
            "text/plain": [
              "<Figure size 720x720 with 1 Axes>"
            ]
          },
          "metadata": {
            "needs_background": "light"
          }
        }
      ]
    },
    {
      "cell_type": "code",
      "metadata": {
        "colab": {
          "base_uri": "https://localhost:8080/"
        },
        "id": "q4X72pdGCK6X",
        "outputId": "ecef6f71-0f9e-4c42-9561-ca770cf9a22a"
      },
      "source": [
        "print(RMSE_accuracy)"
      ],
      "execution_count": null,
      "outputs": [
        {
          "output_type": "stream",
          "name": "stdout",
          "text": [
            "[tensor(0.7697, device='cuda:0', grad_fn=<PowBackward0>), tensor(0.6305, device='cuda:0', grad_fn=<PowBackward0>), tensor(0.5455, device='cuda:0', grad_fn=<PowBackward0>), tensor(0.4928, device='cuda:0', grad_fn=<PowBackward0>), tensor(0.4600, device='cuda:0', grad_fn=<PowBackward0>), tensor(0.4346, device='cuda:0', grad_fn=<PowBackward0>), tensor(0.4179, device='cuda:0', grad_fn=<PowBackward0>), tensor(0.4045, device='cuda:0', grad_fn=<PowBackward0>), tensor(0.3942, device='cuda:0', grad_fn=<PowBackward0>), tensor(0.3866, device='cuda:0', grad_fn=<PowBackward0>)]\n"
          ]
        }
      ]
    },
    {
      "cell_type": "code",
      "metadata": {
        "id": "f03ryC0GBmrn"
      },
      "source": [
        ""
      ],
      "execution_count": null,
      "outputs": []
    }
  ]
}