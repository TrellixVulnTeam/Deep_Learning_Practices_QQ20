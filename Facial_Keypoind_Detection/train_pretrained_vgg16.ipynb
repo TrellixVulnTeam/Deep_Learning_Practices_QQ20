{
  "nbformat": 4,
  "nbformat_minor": 0,
  "metadata": {
    "accelerator": "GPU",
    "colab": {
      "name": "train_pretrained_vgg16.ipynb",
      "provenance": [],
      "mount_file_id": "158pF2cw69UOxB6p4G5C7wUUAKSrsoNEI",
      "authorship_tag": "ABX9TyOhZ6JgIYQ+E7yJQWTRmX7o",
      "include_colab_link": true
    },
    "kernelspec": {
      "display_name": "Python 3",
      "name": "python3"
    },
    "language_info": {
      "name": "python"
    }
  },
  "cells": [
    {
      "cell_type": "markdown",
      "metadata": {
        "id": "view-in-github",
        "colab_type": "text"
      },
      "source": [
        "<a href=\"https://colab.research.google.com/github/taravatp/Facial_Keypoint_Detection/blob/main/train_pretrained_vgg16.ipynb\" target=\"_parent\"><img src=\"https://colab.research.google.com/assets/colab-badge.svg\" alt=\"Open In Colab\"/></a>"
      ]
    },
    {
      "cell_type": "markdown",
      "metadata": {
        "id": "G5I4gjDuJj9q"
      },
      "source": [
        "# Importing packages"
      ]
    },
    {
      "cell_type": "code",
      "metadata": {
        "colab": {
          "base_uri": "https://localhost:8080/"
        },
        "id": "iPjlJltkjuKU",
        "outputId": "caaac422-decb-415e-c208-899ed123410a"
      },
      "source": [
        "cd \"/content/drive/MyDrive/facial_keypoint_detection/\""
      ],
      "execution_count": null,
      "outputs": [
        {
          "output_type": "stream",
          "name": "stdout",
          "text": [
            "/content/drive/MyDrive/facial_keypoint_detection\n"
          ]
        }
      ]
    },
    {
      "cell_type": "code",
      "metadata": {
        "colab": {
          "base_uri": "https://localhost:8080/"
        },
        "id": "0OgT80IRj7bY",
        "outputId": "1d05ed0c-7401-4f2b-d41f-ec3d6c708890"
      },
      "source": [
        "!pip install import_ipynb "
      ],
      "execution_count": null,
      "outputs": [
        {
          "output_type": "stream",
          "name": "stdout",
          "text": [
            "Requirement already satisfied: import_ipynb in /usr/local/lib/python3.7/dist-packages (0.1.3)\n"
          ]
        }
      ]
    },
    {
      "cell_type": "code",
      "metadata": {
        "id": "shvYXbXWJmNS"
      },
      "source": [
        "import torchvision\n",
        "from torchvision import models,datasets,transforms\n",
        "import torch\n",
        "import torch.nn as nn\n",
        "import torch.nn.functional as F\n",
        "import numpy as np,pandas as pd,os,glob,cv2\n",
        "import matplotlib.pyplot as plt\n",
        "%matplotlib inline\n",
        "from torch.utils.data import DataLoader,Dataset,TensorDataset\n",
        "from sklearn import cluster\n",
        "from sklearn.model_selection import train_test_split\n",
        "\n",
        "import import_ipynb"
      ],
      "execution_count": null,
      "outputs": []
    },
    {
      "cell_type": "code",
      "metadata": {
        "id": "nP6UJ3AbGPdn"
      },
      "source": [
        "import dataset \n",
        "from dataset import facial_keypoint"
      ],
      "execution_count": null,
      "outputs": []
    },
    {
      "cell_type": "code",
      "metadata": {
        "colab": {
          "base_uri": "https://localhost:8080/"
        },
        "id": "2I_4XiiTkDWB",
        "outputId": "acbc67a9-b852-43ef-9c7c-690a1bf382e3"
      },
      "source": [
        "!pip install torch_summary\n",
        "from torchsummary import summary"
      ],
      "execution_count": null,
      "outputs": [
        {
          "output_type": "stream",
          "name": "stdout",
          "text": [
            "Requirement already satisfied: torch_summary in /usr/local/lib/python3.7/dist-packages (1.4.5)\n"
          ]
        }
      ]
    },
    {
      "cell_type": "code",
      "metadata": {
        "id": "-S7t73_wkGl3"
      },
      "source": [
        "device = torch.device(\"cuda\") if torch.cuda.is_available() else torch.device(\"cpu\")"
      ],
      "execution_count": null,
      "outputs": []
    },
    {
      "cell_type": "markdown",
      "metadata": {
        "id": "MV188i-uhxVF"
      },
      "source": [
        "# preparing data\n"
      ]
    },
    {
      "cell_type": "code",
      "metadata": {
        "id": "1WUU1o08h98N"
      },
      "source": [
        "data_directory ='/content/drive/MyDrive/facial_keypoint_detection/P1_Facial_Keypoints/data/training/'\n",
        "data = pd.read_csv('/content/drive/MyDrive/facial_keypoint_detection/P1_Facial_Keypoints/data/training_frames_keypoints.csv')\n",
        "train, test = train_test_split(data,test_size=0.2,random_state=101)\n",
        "\n",
        "train_data = facial_keypoint(train.reset_index(drop=True),data_directory) #reset index reuslts in all the indices start from 0\n",
        "test_data = facial_keypoint(test.reset_index(drop=True),data_directory)\n",
        "\n",
        "data_loader_train = DataLoader(train_data,batch_size=32)\n",
        "data_loader_test = DataLoader(test_data,batch_size=32)"
      ],
      "execution_count": null,
      "outputs": []
    },
    {
      "cell_type": "markdown",
      "metadata": {
        "id": "gbsyrYUKJmuy"
      },
      "source": [
        "# Defining model"
      ]
    },
    {
      "cell_type": "code",
      "metadata": {
        "id": "cMUxtZG-Jrii"
      },
      "source": [
        "model = models.vgg16(pretrained=True)\n",
        "for param in model.parameters():\n",
        "  param.requires_grad = False\n",
        "model.avgpool = nn.Sequential(\n",
        "    nn.Conv2d(512,512,3),\n",
        "    nn.MaxPool2d(2),\n",
        "    nn.Flatten()\n",
        ")\n",
        "model.classifier = nn.Sequential(\n",
        "    nn.Linear(2048,512),\n",
        "    nn.ReLU(),\n",
        "    nn.Dropout(0.5),\n",
        "    nn.Linear(512,136),\n",
        "    nn.Sigmoid()\n",
        ")\n",
        "model = model.to(device)"
      ],
      "execution_count": null,
      "outputs": []
    },
    {
      "cell_type": "markdown",
      "metadata": {
        "id": "CJRMFukGJtNr"
      },
      "source": [
        "#Defining loss function, optimizer and hyper-parameters"
      ]
    },
    {
      "cell_type": "code",
      "metadata": {
        "id": "cw1qwIJ8JxvH"
      },
      "source": [
        "loss_function = nn.L1Loss()\n",
        "learning_rate = 1e-5\n",
        "optimizer = torch.optim.Adam(model.parameters(),lr = learning_rate)\n",
        "epochs = 6"
      ],
      "execution_count": null,
      "outputs": []
    },
    {
      "cell_type": "markdown",
      "metadata": {
        "id": "Sf7yKcBrJ0jj"
      },
      "source": [
        "#Training"
      ]
    },
    {
      "cell_type": "code",
      "metadata": {
        "colab": {
          "base_uri": "https://localhost:8080/"
        },
        "id": "14F1anibJ2d5",
        "outputId": "7a87a441-bb3b-466c-d900-c54fe4e1ca34"
      },
      "source": [
        "train_loss = []\n",
        "test_loss = []\n",
        "RMSE_accuracy = []\n",
        "for epoch in range(epochs):\n",
        "  print(\"epoch number:\",epoch)\n",
        "\n",
        "  epoch_train_loss = 0\n",
        "  for iteration,(image,keypoints) in enumerate(data_loader_train):\n",
        "    model.train()\n",
        "    optimizer.zero_grad()\n",
        "    prediction = model(image.to(device))\n",
        "    batch_loss = loss_function(prediction,keypoints)\n",
        "    batch_loss.backward()\n",
        "    optimizer.step()\n",
        "    epoch_train_loss += batch_loss.item()\n",
        "  train_loss.append(epoch_train_loss/(iteration+1))\n",
        "  print(f\"train loss:{epoch_train_loss/(iteration+1)}\")\n",
        "\n",
        "  epoch_test_loss = 0\n",
        "  for iteration,(image,keypoints) in enumerate(data_loader_test):\n",
        "    model.eval()\n",
        "    prediction = model(image.to(device))\n",
        "    test_batch_loss = loss_function(prediction,keypoints)\n",
        "    epoch_test_loss += test_batch_loss.item()\n",
        "  test_loss.append(epoch_test_loss/(iteration+1))\n",
        "  print(f\"test loss:{epoch_test_loss/(iteration+1)}\")\n",
        "\n",
        "  losses = []\n",
        "  #num_emxamples = 0\n",
        "  for iteration, (image,keypoints) in enumerate(data_loader_test):\n",
        "    model.eval()\n",
        "    prediction = model(image.to(device))\n",
        "    rmse = nn.MSELoss()(prediction,keypoints)\n",
        "    #num_emxamples += prediction.shape[0]\n",
        "    losses.append(rmse)\n",
        "  RMSE_accuracy.append(sum(losses) ** 0.5)\n",
        "  print(f\"RMSE accuracy:{sum(losses) ** 0.5}\")\n",
        "  torch.save(model.state_dict(),f\"model_epoch:{epoch}\")"
      ],
      "execution_count": null,
      "outputs": [
        {
          "output_type": "stream",
          "name": "stdout",
          "text": [
            "epoch number: 0\n",
            "train loss:0.08044442080560772\n",
            "test loss:0.05510260638865558\n",
            "RMSE accuracy:0.33525604009628296\n",
            "epoch number: 1\n",
            "train loss:0.06405689939856529\n",
            "test loss:0.04735221832313321\n",
            "RMSE accuracy:0.28742140531539917\n",
            "epoch number: 2\n",
            "train loss:0.05905998117108455\n",
            "test loss:0.044339830902489746\n",
            "RMSE accuracy:0.2698953151702881\n",
            "epoch number: 3\n",
            "train loss:0.0558569118723102\n",
            "test loss:0.04209511625495824\n",
            "RMSE accuracy:0.2570517957210541\n",
            "epoch number: 4\n",
            "train loss:0.053146249646770546\n",
            "test loss:0.040160367604006424\n",
            "RMSE accuracy:0.24607890844345093\n",
            "epoch number: 5\n",
            "train loss:0.050813341491866386\n",
            "test loss:0.03864865309812806\n",
            "RMSE accuracy:0.23739324510097504\n"
          ]
        }
      ]
    },
    {
      "cell_type": "code",
      "metadata": {
        "colab": {
          "base_uri": "https://localhost:8080/",
          "height": 338
        },
        "id": "EpWASqZ6SchL",
        "outputId": "08f2f756-b37e-4ee1-86f8-a59f20ecfaa3"
      },
      "source": [
        "plt.figure(figsize=(20,5))\n",
        "plt.subplot(121)\n",
        "plt.title('train loss over increasing epochs')\n",
        "plt.xlabel('epochs')\n",
        "plt.ylabel('train loss')\n",
        "plt.plot(train_loss)\n",
        "plt.subplot(122)\n",
        "plt.title('test loss over increasing epochs')\n",
        "plt.xlabel('epochs')\n",
        "plt.ylabel('test loss')\n",
        "plt.plot(test_loss)"
      ],
      "execution_count": null,
      "outputs": [
        {
          "output_type": "execute_result",
          "data": {
            "text/plain": [
              "[<matplotlib.lines.Line2D at 0x7f4e87f27ed0>]"
            ]
          },
          "metadata": {},
          "execution_count": 26
        },
        {
          "output_type": "display_data",
          "data": {
            "image/png": "[encoded data removed]",
            "text/plain": [
              "<Figure size 1440x360 with 2 Axes>"
            ]
          },
          "metadata": {
            "needs_background": "light"
          }
        }
      ]
    },
    {
      "cell_type": "code",
      "metadata": {
        "id": "9XWLES2RvY7p"
      },
      "source": [
        ""
      ],
      "execution_count": null,
      "outputs": []
    }
  ]
}