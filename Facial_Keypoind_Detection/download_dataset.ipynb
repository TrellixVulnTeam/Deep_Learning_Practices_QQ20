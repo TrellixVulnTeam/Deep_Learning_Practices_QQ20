{
  "nbformat": 4,
  "nbformat_minor": 0,
  "metadata": {
    "colab": {
      "name": "download_dataset.ipynb",
      "provenance": [],
      "mount_file_id": "1VHjkPMUrum1Ji1lz8AXRFG7MOHDSalIY",
      "authorship_tag": "ABX9TyMvZCf5WJnNV2CqcZeZo3ir",
      "include_colab_link": true
    },
    "kernelspec": {
      "name": "python3",
      "display_name": "Python 3"
    },
    "language_info": {
      "name": "python"
    }
  },
  "cells": [
    {
      "cell_type": "markdown",
      "metadata": {
        "id": "view-in-github",
        "colab_type": "text"
      },
      "source": [
        "<a href=\"https://colab.research.google.com/github/taravatp/Facial_Keypoint_Detection/blob/main/download_dataset.ipynb\" target=\"_parent\"><img src=\"https://colab.research.google.com/assets/colab-badge.svg\" alt=\"Open In Colab\"/></a>"
      ]
    },
    {
      "cell_type": "code",
      "metadata": {
        "colab": {
          "base_uri": "https://localhost:8080/"
        },
        "id": "gMaGDtsl46zB",
        "outputId": "0c449de8-367f-43e7-b0cc-71c37b2cf3a7"
      },
      "source": [
        "cd /content/drive/MyDrive/facial_keypoint_detection #\"used your own directory\""
      ],
      "execution_count": null,
      "outputs": [
        {
          "output_type": "stream",
          "name": "stdout",
          "text": [
            "/content/drive/MyDrive/facial_keypoint_detection\n"
          ]
        }
      ]
    },
    {
      "cell_type": "code",
      "metadata": {
        "colab": {
          "base_uri": "https://localhost:8080/"
        },
        "id": "EvyxxTPm4BUm",
        "outputId": "84283912-e69f-431e-d600-d1a7d40c8d5a"
      },
      "source": [
        "!git clone https://github.com/udacity/P1_Facial_Keypoints.git"
      ],
      "execution_count": null,
      "outputs": [
        {
          "output_type": "stream",
          "name": "stdout",
          "text": [
            "Cloning into 'P1_Facial_Keypoints'...\n",
            "remote: Enumerating objects: 5984, done.\u001b[K\n",
            "remote: Counting objects: 100% (3/3), done.\u001b[K\n",
            "remote: Compressing objects: 100% (3/3), done.\u001b[K\n",
            "remote: Total 5984 (delta 0), reused 0 (delta 0), pack-reused 5981\u001b[K\n",
            "Receiving objects: 100% (5984/5984), 329.50 MiB | 17.39 MiB/s, done.\n",
            "Resolving deltas: 100% (121/121), done.\n",
            "Checking out files: 100% (5803/5803), done.\n"
          ]
        }
      ]
    }
  ]
}