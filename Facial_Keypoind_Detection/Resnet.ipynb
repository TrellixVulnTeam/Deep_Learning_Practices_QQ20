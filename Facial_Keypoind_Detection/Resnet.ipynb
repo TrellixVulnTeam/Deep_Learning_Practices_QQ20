{
  "nbformat": 4,
  "nbformat_minor": 0,
  "metadata": {
    "colab": {
      "name": "Resnet.ipynb",
      "provenance": [],
      "authorship_tag": "ABX9TyOuPulcKBHBiFGQqihG1tlj",
      "include_colab_link": true
    },
    "kernelspec": {
      "name": "python3",
      "display_name": "Python 3"
    },
    "language_info": {
      "name": "python"
    }
  },
  "cells": [
    {
      "cell_type": "markdown",
      "metadata": {
        "id": "view-in-github",
        "colab_type": "text"
      },
      "source": [
        "<a href=\"https://colab.research.google.com/github/taravatp/Facial_Keypoint_Detection/blob/main/Resnet.ipynb\" target=\"_parent\"><img src=\"https://colab.research.google.com/assets/colab-badge.svg\" alt=\"Open In Colab\"/></a>"
      ]
    },
    {
      "cell_type": "code",
      "metadata": {
        "id": "BBmg4vDcj__l"
      },
      "source": [
        "import torch\n",
        "import torch.nn as nn\n",
        "device = torch.device('cuda') if torch.cuda.is_available() else 'cpu'"
      ],
      "execution_count": null,
      "outputs": []
    },
    {
      "cell_type": "code",
      "metadata": {
        "id": "9ih-QNfukElG"
      },
      "source": [
        "class block(nn.Module):\n",
        "  def __init__(self,in_channels,out_channels,identity_downsample=None,stride=1):\n",
        "    super(block,self).__init__()\n",
        "    self.expansion = 4\n",
        "    self.conv1 = nn.Conv2d(in_channels,out_channels,kernel_size=1,stride=1,padding=0)\n",
        "    self.bn1 = nn.BatchNorm2d(out_channels)\n",
        "    self.conv2 = nn.Conv2d(out_channels,out_channels,kernel_size=3,stride=stride,padding=1)\n",
        "    self.bn2 = nn.BatchNorm2d(out_channels)\n",
        "    self.conv3 = nn.Conv2d(out_channels,out_channels*self.expansion,kernel_size=1,stride=1,padding=0)\n",
        "    self.bn3 = nn.BatchNorm2d(out_channels*self.expansion)\n",
        "    self.relu = nn.ReLU()\n",
        "    self.identity_downsample = identity_downsample\n",
        "\n",
        "  def forward(self,x):\n",
        "    identity = x\n",
        "\n",
        "    x = self.conv1(x)\n",
        "    x = self.bn1(x)\n",
        "    x = self.relu(x)\n",
        "    x = self.conv2(x)\n",
        "    x = self.bn2(x)\n",
        "    x = self.relu(x)\n",
        "    x = self.conv3(x)\n",
        "    x = self.bn3(x)\n",
        "\n",
        "    if self.identity_downsample is not None:\n",
        "      identity = self.identity_downsample(identity) #just for reshaping\n",
        "\n",
        "    x = x+identity\n",
        "    x = self.relu(x)\n",
        "    return x"
      ],
      "execution_count": null,
      "outputs": []
    },
    {
      "cell_type": "code",
      "metadata": {
        "id": "VB9q5xSPmOc_"
      },
      "source": [
        "class Resnet(nn.Module): #[3.4,6,3]\n",
        "  def __init__(self,block,layers,image_channels,num_classes):\n",
        "    super(Resnet,self).__init__()\n",
        "    self.in_channels = 64\n",
        "    self.conv1 = nn.Conv2d(image_channels,64,kernel_size=7,stride=2,padding=3)\n",
        "    self.bn1 = nn.BatchNorm2d(64)\n",
        "    self.relu = nn.ReLU()\n",
        "    self.maxpool = nn.MaxPool2d(kernel_size=3,stride=2,padding=1)\n",
        "\n",
        "    self.layer1 = self._make_layer(block, layers[0], out_channels=64 , stride=1)\n",
        "    self.layer2 = self._make_layer(block, layers[1], out_channels=128 , stride=2)\n",
        "    self.layer3 = self._make_layer(block, layers[2], out_channels=256 , stride=2)\n",
        "    self.layer4 = self._make_layer(block, layers[3], out_channels=512 , stride=2)\n",
        "\n",
        "    self.avgpool = nn.AdaptiveAvgPool2d((1,1))\n",
        "    self.fc = nn.Linear(512*4,num_classes)\n",
        "\n",
        "  def forward(self,x):\n",
        "    x = self.conv1(x)\n",
        "    x = self.bn1(x)\n",
        "    x = self.relu(x)\n",
        "    x = self.maxpool(x)\n",
        "\n",
        "    x = self.layer1(x)\n",
        "    x = self.layer2(x)\n",
        "    x = self.layer3(x)\n",
        "    x = self.layer4(x)\n",
        "\n",
        "    x = self.avgpool(x)\n",
        "    x = x.reshape(x.shape[0],-1)\n",
        "    x = self.fc(x)\n",
        "    return x\n",
        "\n",
        "  def _make_layer(self,block,num_residual_blcoks,out_channels,stride):\n",
        "    identity_downsample = None\n",
        "    layers = []\n",
        "    \n",
        "    if stride!=1 or self.in_channels != out_channels*4:\n",
        "      identity_downsample = nn.Sequential(\n",
        "          nn.Conv2d(self.in_channels,out_channels*4,kernel_size=1,stride=stride),\n",
        "          nn.BatchNorm2d(out_channels*4)\n",
        "      )\n",
        "    \n",
        "    layers.append(block(self.in_channels,out_channels,identity_downsample,stride))\n",
        "    self.in_channels = out_channels*4\n",
        "\n",
        "    for i in range(num_residual_blcoks-1):\n",
        "      layers.append(block(self.in_channels,out_channels))\n",
        "\n",
        "    return nn.Sequential(*layers)"
      ],
      "execution_count": null,
      "outputs": []
    },
    {
      "cell_type": "code",
      "metadata": {
        "id": "6Y2E6etJC-Uh"
      },
      "source": [
        "def ResNet50(img_channel=3, num_classes=1000):\n",
        "    return Resnet(block, [3, 4, 6, 3], img_channel, num_classes)\n",
        "\n",
        "\n",
        "def ResNet101(img_channel=3, num_classes=1000):\n",
        "    return Resnet(block, [3, 4, 23, 3], img_channel, num_classes)\n",
        "\n",
        "\n",
        "def ResNet152(img_channel=3, num_classes=1000):\n",
        "    return Resnet(block, [3, 8, 36, 3], img_channel, num_classes)\n",
        "\n",
        "\n",
        "def test():\n",
        "    net = ResNet101(img_channel=3, num_classes=1000)\n",
        "    y = net(torch.randn(4, 3, 224, 224)).to(device)\n",
        "    print(y.size())"
      ],
      "execution_count": null,
      "outputs": []
    },
    {
      "cell_type": "code",
      "metadata": {
        "id": "nRhdcMuW-w6P",
        "colab": {
          "base_uri": "https://localhost:8080/"
        },
        "outputId": "cfadfddc-3281-4f3d-accf-5e211ddb1ebc"
      },
      "source": [
        "if __name__ == \"__main__\":\n",
        "  test()"
      ],
      "execution_count": null,
      "outputs": [
        {
          "output_type": "stream",
          "name": "stdout",
          "text": [
            "torch.Size([4, 1000])\n"
          ]
        }
      ]
    }
  ]
}